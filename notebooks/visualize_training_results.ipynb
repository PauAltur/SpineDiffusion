{
 "cells": [
  {
   "cell_type": "markdown",
   "metadata": {},
   "source": [
    "# Test diffusion models"
   ]
  },
  {
   "cell_type": "markdown",
   "metadata": {},
   "source": [
    "## 1. Workspace setup"
   ]
  },
  {
   "cell_type": "code",
   "execution_count": null,
   "metadata": {},
   "outputs": [],
   "source": [
    "%load_ext autoreload\n",
    "%autoreload 2\n",
    "%load_ext jupyter_black"
   ]
  },
  {
   "cell_type": "code",
   "execution_count": null,
   "metadata": {},
   "outputs": [],
   "source": [
    "import yaml\n",
    "import os\n",
    "import torch\n",
    "import torch.nn.functional as F\n",
    "import matplotlib.pyplot as plt\n",
    "import numpy as np\n",
    "import torchmetrics\n",
    "import pandas as pd\n",
    "from diffusers import UNet2DModel, DDPMScheduler\n",
    "from spinediffusion.models.diffusion_models import UnconditionalDiffusionModel\n",
    "from pathlib import Path\n",
    "from tensorflow.python.summary.summary_iterator import summary_iterator"
   ]
  },
  {
   "cell_type": "markdown",
   "metadata": {},
   "source": [
    "## 2. Load event data from tensorboard\n",
    "\n",
    "This takes all the events in the tensorboard event files and loads them into a pandas dataframe. Each event has a time, a tag and a value. In addition we add a run_name to differentiate between different runs. This way, we can compare different runs in the same plot."
   ]
  },
  {
   "cell_type": "code",
   "execution_count": null,
   "metadata": {},
   "outputs": [],
   "source": [
    "log_paths = [\n",
    "    Path(\n",
    "        f\"P:\\\\Projects\\\\LMB_4Dspine\\\\Iship_Pau_Altur_Pastor\\\\4_training_logs\\\\logs\\\\depthmap\\\\version_{i}\"\n",
    "    )\n",
    "    for i in range(6, 11)\n",
    "]\n",
    "\n",
    "df_tf = pd.DataFrame(columns=[\"run_name\", \"time\", \"tag\", \"value\"])\n",
    "\n",
    "for path in log_paths:\n",
    "    event_file = list(path.glob(\"events.out.tfevents.*\"))[0]\n",
    "    run_name = path.stem\n",
    "\n",
    "    for e in summary_iterator(str(path / event_file)):\n",
    "        if len(e.summary.value) == 0:\n",
    "            continue\n",
    "\n",
    "        df_tf.loc[len(df_tf)] = [\n",
    "            run_name,\n",
    "            e.wall_time,\n",
    "            e.summary.value[0].tag,\n",
    "            e.summary.value[0].simple_value,\n",
    "        ]\n",
    "\n",
    "df_tf"
   ]
  },
  {
   "cell_type": "code",
   "execution_count": null,
   "metadata": {},
   "outputs": [],
   "source": [
    "with open(log_path / \"config.yaml\", \"r\") as f:\n",
    "    config = yaml.safe_load(f)\n",
    "\n",
    "model = UNet2DModel(**config[\"model\"][\"init_args\"][\"model\"][\"init_args\"])\n",
    "scheduler = DDPMScheduler(**config[\"model\"][\"init_args\"][\"scheduler\"][\"init_args\"])\n",
    "loss = torch.nn.MSELoss(**config[\"model\"][\"init_args\"][\"loss\"][\"init_args\"])\n",
    "\n",
    "metrics = []\n",
    "for metric_dict in config[\"model\"][\"init_args\"][\"metrics\"].values():\n",
    "    metrics.append(eval(metric_dict[\"class_path\"])(**metric_dict[\"init_args\"]))"
   ]
  },
  {
   "cell_type": "code",
   "execution_count": null,
   "metadata": {},
   "outputs": [],
   "source": [
    "lightning_module = UnconditionalDiffusionModel.load_from_checkpoint(\n",
    "    log_path / \"checkpoints\" / \"epoch=10-step=2519.ckpt\",\n",
    "    model=model,\n",
    "    scheduler=scheduler,\n",
    "    loss=loss,\n",
    "    metrics=metrics,\n",
    ")"
   ]
  },
  {
   "cell_type": "markdown",
   "metadata": {},
   "source": [
    "## 3. Visualize tensorflow logs"
   ]
  },
  {
   "cell_type": "code",
   "execution_count": null,
   "metadata": {},
   "outputs": [],
   "source": [
    "o"
   ]
  },
  {
   "cell_type": "code",
   "execution_count": null,
   "metadata": {},
   "outputs": [],
   "source": [
    "df_tf = pd.DataFrame()\n",
    "\n",
    "for e in summary_iterator(\n",
    "    str(log_path / \"events.out.tfevents.1719496170.Portatil_Pau.95140.0\")\n",
    "):\n",
    "    if len(e.summary.value) == 0:\n",
    "        continue\n",
    "    index = e.wall_time\n",
    "    tag = e.summary.value[0].tag\n",
    "    value = e.summary.value[0].simple_value\n",
    "    df_tf.loc[index, tag] = value"
   ]
  },
  {
   "cell_type": "code",
   "execution_count": null,
   "metadata": {},
   "outputs": [],
   "source": [
    "df_tf"
   ]
  },
  {
   "cell_type": "code",
   "execution_count": null,
   "metadata": {},
   "outputs": [],
   "source": [
    "import numpy as np\n",
    "\n",
    "np.diff(df_tf.index.values())"
   ]
  },
  {
   "cell_type": "markdown",
   "metadata": {},
   "source": [
    "## 4. Test inference"
   ]
  },
  {
   "cell_type": "code",
   "execution_count": null,
   "metadata": {},
   "outputs": [],
   "source": []
  }
 ],
 "metadata": {
  "kernelspec": {
   "display_name": "venv",
   "language": "python",
   "name": "python3"
  },
  "language_info": {
   "codemirror_mode": {
    "name": "ipython",
    "version": 3
   },
   "file_extension": ".py",
   "mimetype": "text/x-python",
   "name": "python",
   "nbconvert_exporter": "python",
   "pygments_lexer": "ipython3",
   "version": "3.8.3"
  }
 },
 "nbformat": 4,
 "nbformat_minor": 2
}
