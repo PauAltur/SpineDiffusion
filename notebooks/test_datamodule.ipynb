{
 "cells": [
  {
   "cell_type": "markdown",
   "metadata": {},
   "source": [
    "# Testing datamodule"
   ]
  },
  {
   "cell_type": "markdown",
   "metadata": {},
   "source": [
    "## 1. Workspace setup"
   ]
  },
  {
   "cell_type": "code",
   "execution_count": null,
   "metadata": {},
   "outputs": [],
   "source": [
    "import sys\n",
    "import os\n",
    "import open3d as o3d\n",
    "import numpy as np\n",
    "import matplotlib.pyplot as plt\n",
    "sys.path.append(os.path.join(os.environ[\"HOMEPATH\"],\"OneDrive - ETH Zurich\\\\semester_project\\\\spinediffusion\"))\n"
   ]
  },
  {
   "cell_type": "code",
   "execution_count": null,
   "metadata": {},
   "outputs": [],
   "source": [
    "from spinediffusion.datamodule.datamodule import SpineDataModule"
   ]
  },
  {
   "cell_type": "markdown",
   "metadata": {},
   "source": [
    "## 2. Instantiate datamodule"
   ]
  },
  {
   "cell_type": "code",
   "execution_count": null,
   "metadata": {},
   "outputs": [],
   "source": [
    "transform_args = {\n",
    "    'constant_normalize' :{\n",
    "        \"transform_number\" : 0,\n",
    "        \"norm\" : 100,\n",
    "    },\n",
    "    # 'spine_length_normalize':{\n",
    "    #     \"transform_number\" : 0,\n",
    "    #     \"norm_length\" : 1,\n",
    "\n",
    "    # },\n",
    "    'resample_3d_curve':{\n",
    "        \"transform_number\" : 2,\n",
    "    },\n",
    "    'resample_point_cloud':{\n",
    "        \"transform_number\" : 3,\n",
    "    },\n",
    "    \"project_to_plane\": {\n",
    "        \"transform_number\": 4,\n",
    "    },\n",
    "}\n",
    "\n",
    "\n",
    "datamodule = SpineDataModule(\n",
    "    data_dir='P:\\\\Projects\\\\LMB_4Dspine\\\\back_scan_database',\n",
    "    batch_size=32,\n",
    "    train_fraction=0.8,\n",
    "    val_fraction=0.1,\n",
    "    test_fraction=0.1,\n",
    "    transform_args=transform_args,\n",
    "    n_subjects = 30,\n",
    ")"
   ]
  },
  {
   "cell_type": "code",
   "execution_count": null,
   "metadata": {},
   "outputs": [],
   "source": [
    "datamodule._parse_datapaths()\n",
    "print(datamodule.dirs_back)\n",
    "print(datamodule.dirs_meta)"
   ]
  },
  {
   "cell_type": "code",
   "execution_count": null,
   "metadata": {},
   "outputs": [],
   "source": [
    "datamodule._load_data()\n",
    "print(datamodule.meta.keys())\n",
    "print(datamodule.backs.keys())"
   ]
  },
  {
   "cell_type": "code",
   "execution_count": null,
   "metadata": {},
   "outputs": [],
   "source": [
    "for key in datamodule.meta.keys():\n",
    "    print(key)"
   ]
  },
  {
   "cell_type": "markdown",
   "metadata": {},
   "source": []
  },
  {
   "cell_type": "code",
   "execution_count": null,
   "metadata": {},
   "outputs": [],
   "source": [
    "datamodule._reformat_data()"
   ]
  },
  {
   "cell_type": "code",
   "execution_count": null,
   "metadata": {},
   "outputs": [],
   "source": [
    "datamodule._preprocess_data()"
   ]
  },
  {
   "cell_type": "code",
   "execution_count": null,
   "metadata": {},
   "outputs": [],
   "source": [
    "norm_vals = np.concatenate([np.asarray(value[\"backscan\"].points) for value in datamodule.data.values()])\n",
    "\n",
    "fig, axs = plt.subplots(1, 3, figsize=(24, 8))\n",
    "\n",
    "axs[0].hist(norm_vals[:, 0], bins=100)\n",
    "axs[0].set_title(\"x\")       \n",
    "axs[1].hist(norm_vals[:, 1], bins=100)\n",
    "axs[1].set_title(\"y\")\n",
    "axs[2].hist(norm_vals[:, 2], bins=100)\n",
    "axs[2].set_title(\"z\")\n",
    "\n",
    "plt.show()"
   ]
  },
  {
   "cell_type": "code",
   "execution_count": null,
   "metadata": {},
   "outputs": [],
   "source": []
  }
 ],
 "metadata": {
  "kernelspec": {
   "display_name": "Python 3",
   "language": "python",
   "name": "python3"
  },
  "language_info": {
   "codemirror_mode": {
    "name": "ipython",
    "version": 3
   },
   "file_extension": ".py",
   "mimetype": "text/x-python",
   "name": "python",
   "nbconvert_exporter": "python",
   "pygments_lexer": "ipython3",
   "version": "3.8.3"
  }
 },
 "nbformat": 4,
 "nbformat_minor": 2
}
