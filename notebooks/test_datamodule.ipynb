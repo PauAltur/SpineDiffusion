{
 "cells": [
  {
   "cell_type": "markdown",
   "metadata": {},
   "source": [
    "# Testing datamodule"
   ]
  },
  {
   "cell_type": "markdown",
   "metadata": {},
   "source": [
    "## 1. Workspace setup"
   ]
  },
  {
   "cell_type": "code",
   "execution_count": null,
   "metadata": {},
   "outputs": [],
   "source": [
    "%load_ext autoreload\n",
    "%autoreload 2\n",
    "%load_ext jupyter_black"
   ]
  },
  {
   "cell_type": "code",
   "execution_count": null,
   "metadata": {},
   "outputs": [],
   "source": [
    "import sys\n",
    "import os\n",
    "import open3d as o3d\n",
    "import numpy as np\n",
    "import matplotlib.pyplot as plt\n",
    "from spinediffusion.datamodule.datamodule import SpineDataModule"
   ]
  },
  {
   "cell_type": "markdown",
   "metadata": {},
   "source": [
    "## 2. Instantiate datamodule"
   ]
  },
  {
   "cell_type": "code",
   "execution_count": null,
   "metadata": {},
   "outputs": [],
   "source": [
    "transform_args = {\n",
    "    \"spine_length_normalize\": {\n",
    "        \"transform_number\": 0,\n",
    "        \"norm_length\": 1,\n",
    "    },\n",
    "    \"resample_3d_curve\": {\n",
    "        \"transform_number\": 1,\n",
    "        \"n_points\": 256,\n",
    "    },\n",
    "    \"resample_point_cloud\": {\n",
    "        \"transform_number\": 2,\n",
    "        \"n_points\": 65536,\n",
    "        \"method\": \"uniform\",\n",
    "    },\n",
    "    # \"project_to_plane\": {\n",
    "    #     \"transform_number\": 3,\n",
    "    #     \"height\": 124,\n",
    "    #     \"width\": 124,\n",
    "    #     \"intensity\": 1,\n",
    "    # },\n",
    "    # \"close_depthmap\": {\"transform_number\": 4, \"se_size\": (3, 3)},\n",
    "    \"tensorize\": {\"transform_number\": 3},\n",
    "}\n",
    "\n",
    "exclude_patients = {\n",
    "    \"balgrist\": [1, 5],\n",
    "    \"croatian\": [4, 5],\n",
    "    \"italian\": [],\n",
    "    \"ukbb\": [],\n",
    "}\n",
    "\n",
    "datamodule = SpineDataModule(\n",
    "    data_dir=\"P:\\\\Projects\\\\LMB_4Dspine\\\\back_scan_database\",\n",
    "    batch_size=32,\n",
    "    train_fraction=0.8,\n",
    "    val_fraction=0.1,\n",
    "    test_fraction=0.1,\n",
    "    transform_args=transform_args,\n",
    "    n_subjects=5,\n",
    "    exclude_patients=exclude_patients,\n",
    "    use_cache=True,\n",
    "    cache_dir=\"../cache/\",\n",
    ")\n",
    "datamodule.setup(stage=None)"
   ]
  },
  {
   "cell_type": "code",
   "execution_count": null,
   "metadata": {},
   "outputs": [],
   "source": [
    "plt.imshow(datamodule.train_data[3][0].detach().numpy()[0], cmap=\"gray\")"
   ]
  },
  {
   "cell_type": "code",
   "execution_count": null,
   "metadata": {},
   "outputs": [],
   "source": [
    "datamodule.train_dataloader"
   ]
  },
  {
   "cell_type": "code",
   "execution_count": null,
   "metadata": {},
   "outputs": [],
   "source": []
  },
  {
   "cell_type": "code",
   "execution_count": null,
   "metadata": {},
   "outputs": [],
   "source": [
    "for value in datamodule.data.values():\n",
    "    print(value.keys())"
   ]
  },
  {
   "cell_type": "code",
   "execution_count": null,
   "metadata": {},
   "outputs": [],
   "source": [
    "datamodule.train_data[0]"
   ]
  },
  {
   "cell_type": "code",
   "execution_count": null,
   "metadata": {},
   "outputs": [],
   "source": [
    "indices = np.random.choice(30, 16, replace=False)\n",
    "\n",
    "keys = list(datamodule.data.keys())\n",
    "\n",
    "# Single View\n",
    "fig = plt.figure(figsize=(16, 16))\n",
    "\n",
    "for i, idx in enumerate(indices):\n",
    "    ax = fig.add_subplot(4, 4, i + 1, projection=\"3d\")\n",
    "    points = datamodule.data[keys[idx]][\"backscan\"]\n",
    "    ax.scatter(points[:, 0], points[:, 1], points[:, 2], s=1)\n",
    "    ax.axis(\"off\")\n",
    "\n",
    "plt.show()"
   ]
  },
  {
   "cell_type": "code",
   "execution_count": null,
   "metadata": {},
   "outputs": [],
   "source": [
    "fig, axs = plt.subplots(4, 4, figsize=(16, 16))\n",
    "\n",
    "for i, ax in enumerate(axs.flatten()):\n",
    "    depthmap = datamodule.data[keys[indices[i]]][\"depth_map\"]\n",
    "    ax.imshow(depthmap, cmap=\"gray\")\n",
    "    ax.axis(\"off\")"
   ]
  },
  {
   "cell_type": "code",
   "execution_count": null,
   "metadata": {},
   "outputs": [],
   "source": [
    "import numpy as np\n",
    "from scipy.ndimage import grey_closing\n",
    "\n",
    "# Assume `image` is the input NumPy array representing the grayscale image\n",
    "# The structuring element can be customized; here we use a simple 3x3 square\n",
    "structuring_element = np.ones((3, 3))\n",
    "\n",
    "\n",
    "fig, axs = plt.subplots(4, 4, figsize=(16, 16))\n",
    "\n",
    "for i, ax in enumerate(axs.flatten()):\n",
    "    depthmap = datamodule.data[keys[indices[i]]][\"depth_map\"]\n",
    "    depthmap = grey_closing(depthmap, structure=structuring_element)\n",
    "    ax.imshow(depthmap, cmap=\"gray\")\n",
    "    ax.axis(\"off\")"
   ]
  }
 ],
 "metadata": {
  "kernelspec": {
   "display_name": "Python 3",
   "language": "python",
   "name": "python3"
  },
  "language_info": {
   "codemirror_mode": {
    "name": "ipython",
    "version": 3
   },
   "file_extension": ".py",
   "mimetype": "text/x-python",
   "name": "python",
   "nbconvert_exporter": "python",
   "pygments_lexer": "ipython3",
   "version": "3.8.3"
  }
 },
 "nbformat": 4,
 "nbformat_minor": 2
}
