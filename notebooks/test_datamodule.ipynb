{
 "cells": [
  {
   "cell_type": "markdown",
   "metadata": {},
   "source": [
    "# Testing datamodule"
   ]
  },
  {
   "cell_type": "markdown",
   "metadata": {},
   "source": [
    "## 1. Workspace setup"
   ]
  },
  {
   "cell_type": "code",
   "execution_count": null,
   "metadata": {},
   "outputs": [],
   "source": [
    "%load_ext autoreload\n",
    "%autoreload 2\n",
    "%load_ext jupyter_black"
   ]
  },
  {
   "cell_type": "code",
   "execution_count": null,
   "metadata": {},
   "outputs": [],
   "source": [
    "import sys\n",
    "import os\n",
    "import yaml\n",
    "import open3d as o3d\n",
    "import numpy as np\n",
    "import matplotlib.pyplot as plt\n",
    "from spinediffusion.data.datamodule import SpineDataModule\n",
    "from spinediffusion.data.transforms import *\n",
    "from torchvision.transforms import v2"
   ]
  },
  {
   "cell_type": "markdown",
   "metadata": {},
   "source": [
    "## 2. Instantiate datamodule"
   ]
  },
  {
   "cell_type": "code",
   "execution_count": null,
   "metadata": {},
   "outputs": [],
   "source": [
    "with open(\"../configs/config.yaml\", \"r\") as f:\n",
    "    config = yaml.load(f, Loader=yaml.FullLoader)\n",
    "\n",
    "transforms = []\n",
    "\n",
    "for transform in config[\"data\"][\"init_args\"][\"transforms\"]:\n",
    "    transforms.append(eval(transform[\"class_path\"])(**transform[\"init_args\"]))"
   ]
  },
  {
   "cell_type": "code",
   "execution_count": null,
   "metadata": {},
   "outputs": [],
   "source": [
    "datamodule = SpineDataModule(\n",
    "    data_dir=\"P:\\\\Projects\\\\LMB_4Dspine\\\\back_scan_database\",\n",
    "    batch_size=32,\n",
    "    train_fraction=0.8,\n",
    "    val_fraction=0.1,\n",
    "    test_fraction=0.1,\n",
    "    transforms=transforms,\n",
    "    num_subjects=10,\n",
    "    exclude_patients={},\n",
    "    use_cache=False,\n",
    "    cache_dir=\"../cache/\",\n",
    "    predict_size=16,\n",
    "    num_workers=1,\n",
    ")\n",
    "datamodule.setup(stage=None)"
   ]
  },
  {
   "cell_type": "code",
   "execution_count": null,
   "metadata": {},
   "outputs": [],
   "source": [
    "plt.imshow(datamodule.predict_data[0][0].squeeze(), cmap=\"gray\")"
   ]
  },
  {
   "cell_type": "code",
   "execution_count": null,
   "metadata": {},
   "outputs": [],
   "source": [
    "means = {}\n",
    "stds = {}\n",
    "\n",
    "means_diff = []\n",
    "stds_diff = []\n",
    "\n",
    "for key in data.keys():\n",
    "    backscan = data[key][\"backscan\"]\n",
    "    backscan_upsampled = data_upsampled[key][\"backscan\"]\n",
    "\n",
    "    means[key] = {}\n",
    "    stds[key] = {}\n",
    "\n",
    "    means[key][\"original\"] = np.mean(np.asarray(backscan.points), axis=0)\n",
    "    stds[key][\"original\"] = np.std(np.asarray(backscan.points), axis=0)\n",
    "    means[key][\"upsampled\"] = np.mean(np.asarray(backscan_upsampled.points), axis=0)\n",
    "    stds[key][\"upsampled\"] = np.std(np.asarray(backscan_upsampled.points), axis=0)"
   ]
  },
  {
   "cell_type": "code",
   "execution_count": null,
   "metadata": {},
   "outputs": [],
   "source": [
    "x_mean_diff = []\n",
    "y_mean_diff = []\n",
    "z_mean_diff = []\n",
    "\n",
    "x_std_diff = []\n",
    "y_std_diff = []\n",
    "z_std_diff = []\n",
    "\n",
    "for key in means.keys():\n",
    "    x_mean_diff.append(means[key][\"original\"][0] - means[key][\"upsampled\"][0])\n",
    "    y_mean_diff.append(means[key][\"original\"][1] - means[key][\"upsampled\"][1])\n",
    "    z_mean_diff.append(means[key][\"original\"][2] - means[key][\"upsampled\"][2])\n",
    "\n",
    "    x_std_diff.append(stds[key][\"original\"][0] - stds[key][\"upsampled\"][0])\n",
    "    y_std_diff.append(stds[key][\"original\"][1] - stds[key][\"upsampled\"][1])\n",
    "    z_std_diff.append(stds[key][\"original\"][2] - stds[key][\"upsampled\"][2])"
   ]
  },
  {
   "cell_type": "code",
   "execution_count": null,
   "metadata": {},
   "outputs": [],
   "source": [
    "fig, axs = plt.subplots(2, 3, figsize=(15, 10))\n",
    "\n",
    "axs[0, 0].hist(x_mean_diff, bins=20)\n",
    "axs[0, 0].set_title(\"X mean difference\")\n",
    "axs[0, 0].set_xlabel(\"Difference\")\n",
    "axs[0, 0].set_ylabel(\"Frequency\")\n",
    "\n",
    "axs[0, 1].hist(y_mean_diff, bins=20)\n",
    "axs[0, 1].set_title(\"Y mean difference\")\n",
    "axs[0, 1].set_xlabel(\"Difference\")\n",
    "axs[0, 1].set_ylabel(\"Frequency\")\n",
    "\n",
    "axs[0, 2].hist(z_mean_diff, bins=20)\n",
    "axs[0, 2].set_title(\"Z mean difference\")\n",
    "axs[0, 2].set_xlabel(\"Difference\")\n",
    "axs[0, 2].set_ylabel(\"Frequency\")\n",
    "\n",
    "axs[1, 0].hist(x_std_diff, bins=20)\n",
    "axs[1, 0].set_title(\"X std difference\")\n",
    "axs[1, 0].set_xlabel(\"Difference\")\n",
    "axs[1, 0].set_ylabel(\"Frequency\")\n",
    "\n",
    "axs[1, 1].hist(y_std_diff, bins=20)\n",
    "axs[1, 1].set_title(\"Y std difference\")\n",
    "axs[1, 1].set_xlabel(\"Difference\")\n",
    "axs[1, 1].set_ylabel(\"Frequency\")\n",
    "\n",
    "axs[1, 2].hist(z_std_diff, bins=20)\n",
    "axs[1, 2].set_title(\"Z std difference\")\n",
    "axs[1, 2].set_xlabel(\"Difference\")\n",
    "axs[1, 2].set_ylabel(\"Frequency\")"
   ]
  },
  {
   "cell_type": "code",
   "execution_count": null,
   "metadata": {},
   "outputs": [],
   "source": [
    "height = 128  # pixels\n",
    "\n",
    "factor = 1\n",
    "\n",
    "areas = []\n",
    "\n",
    "for key in data.keys():\n",
    "    special_points = data[key][\"special_points\"]\n",
    "    C7 = special_points[\"C7\"]\n",
    "    DR = special_points[\"DR\"]\n",
    "    DL = special_points[\"DL\"]\n",
    "\n",
    "    DM = (DR + DL) / 2\n",
    "\n",
    "    spine_length = np.linalg.norm(C7 - DM)  # length units\n",
    "\n",
    "    spine_pixels = height * factor\n",
    "\n",
    "    d_height = spine_length / spine_pixels\n",
    "\n",
    "    areas.append(d_height**2)\n",
    "\n",
    "\n",
    "plt.hist(areas, bins=20)\n",
    "plt.title(\"Pixel area\")\n",
    "plt.xlabel(\"Area [$mm^2$]\")\n",
    "plt.ylabel(\"# subjects\")\n",
    "\n",
    "plt.show()"
   ]
  },
  {
   "cell_type": "code",
   "execution_count": null,
   "metadata": {},
   "outputs": [],
   "source": [
    "indices = np.random.choice(len(datamodule.data.keys()), 16, replace=False)\n",
    "\n",
    "fig, axs = plt.subplots(4, 4, figsize=(15, 15))\n",
    "\n",
    "for i, idx in enumerate(indices):\n",
    "    key = list(datamodule.data.keys())[idx]\n",
    "\n",
    "    depth_map = datamodule.data[key][\"depth_map\"]\n",
    "    axs.flat[i].imshow(depth_map[0], cmap=\"gray\")"
   ]
  }
 ],
 "metadata": {
  "kernelspec": {
   "display_name": "Python 3",
   "language": "python",
   "name": "python3"
  },
  "language_info": {
   "codemirror_mode": {
    "name": "ipython",
    "version": 3
   },
   "file_extension": ".py",
   "mimetype": "text/x-python",
   "name": "python",
   "nbconvert_exporter": "python",
   "pygments_lexer": "ipython3",
   "version": "3.8.3"
  }
 },
 "nbformat": 4,
 "nbformat_minor": 2
}
