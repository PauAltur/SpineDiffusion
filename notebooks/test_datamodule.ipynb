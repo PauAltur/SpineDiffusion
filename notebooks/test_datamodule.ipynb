{
 "cells": [
  {
   "cell_type": "markdown",
   "metadata": {},
   "source": [
    "# Testing datamodule"
   ]
  },
  {
   "cell_type": "markdown",
   "metadata": {},
   "source": [
    "## 1. Workspace setup"
   ]
  },
  {
   "cell_type": "code",
   "execution_count": null,
   "metadata": {},
   "outputs": [],
   "source": [
    "import sys\n",
    "import os\n",
    "import open3d as o3d\n",
    "import numpy as np\n",
    "sys.path.append(os.path.join(os.environ[\"HOMEPATH\"],\"OneDrive - ETH Zurich\\\\semester_project\\\\spinediffusion\"))\n"
   ]
  },
  {
   "cell_type": "code",
   "execution_count": null,
   "metadata": {},
   "outputs": [],
   "source": [
    "from spinediffusion.datamodule.datamodule import SpineDataModule"
   ]
  },
  {
   "cell_type": "markdown",
   "metadata": {},
   "source": [
    "## 2. Instantiate datamodule"
   ]
  },
  {
   "cell_type": "code",
   "execution_count": null,
   "metadata": {},
   "outputs": [],
   "source": [
    "transform_args = {\n",
    "    'Normalize' :{\n",
    "        \"transform_number\" : 1,\n",
    "    },\n",
    "    'Crop':{\n",
    "        \"transform_number\" : 2,\n",
    "    },\n",
    "    'Resample3DCurve':{\n",
    "        \"transform_number\" : 3,\n",
    "    },\n",
    "    'Center':{\n",
    "        \"transform_number\" : 4,\n",
    "    },\n",
    "}\n",
    "\n",
    "\n",
    "datamodule = SpineDataModule(\n",
    "    data_dir='P:\\\\Projects\\\\LMB_4Dspine\\\\back_scan_database',\n",
    "    batch_size=32,\n",
    "    train_fraction=0.8,\n",
    "    val_fraction=0.1,\n",
    "    test_fraction=0.1,\n",
    "    transform_args=transform_args,\n",
    "    n_subjects = 30,\n",
    ")"
   ]
  },
  {
   "cell_type": "code",
   "execution_count": null,
   "metadata": {},
   "outputs": [],
   "source": [
    "datamodule._parse_datapaths()\n",
    "print(datamodule.dirs_backscan)\n",
    "print(datamodule.dirs_metadata)"
   ]
  },
  {
   "cell_type": "code",
   "execution_count": null,
   "metadata": {},
   "outputs": [],
   "source": [
    "datamodule._load_metadata()\n",
    "datamodule.data[\"metadata\"].keys()"
   ]
  },
  {
   "cell_type": "code",
   "execution_count": null,
   "metadata": {},
   "outputs": [],
   "source": [
    "datamodule._load_backscans()\n",
    "datamodule.data[\"backscans\"].keys()"
   ]
  },
  {
   "cell_type": "code",
   "execution_count": null,
   "metadata": {},
   "outputs": [],
   "source": [
    "dirs_backscan = datamodule.dirs_backscan\n",
    "\n",
    "metadata = datamodule.data[\"metadata\"]\n",
    "backscans = datamodule.data[\"backscans\"]"
   ]
  },
  {
   "cell_type": "code",
   "execution_count": null,
   "metadata": {},
   "outputs": [],
   "source": [
    "metadata['balgrist_1'].keys()"
   ]
  },
  {
   "cell_type": "code",
   "execution_count": null,
   "metadata": {},
   "outputs": [],
   "source": [
    "metadata['croatian_1'].keys()"
   ]
  },
  {
   "cell_type": "code",
   "execution_count": null,
   "metadata": {},
   "outputs": [],
   "source": [
    "metadata['italian_10'].keys()"
   ]
  },
  {
   "cell_type": "code",
   "execution_count": null,
   "metadata": {},
   "outputs": [],
   "source": [
    "metadata['ukbb_1238'].keys()"
   ]
  }
 ],
 "metadata": {
  "kernelspec": {
   "display_name": "Python 3",
   "language": "python",
   "name": "python3"
  },
  "language_info": {
   "codemirror_mode": {
    "name": "ipython",
    "version": 3
   },
   "file_extension": ".py",
   "mimetype": "text/x-python",
   "name": "python",
   "nbconvert_exporter": "python",
   "pygments_lexer": "ipython3",
   "version": "3.8.3"
  }
 },
 "nbformat": 4,
 "nbformat_minor": 2
}
