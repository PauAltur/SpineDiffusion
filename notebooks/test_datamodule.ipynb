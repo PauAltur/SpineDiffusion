{
 "cells": [
  {
   "cell_type": "markdown",
   "metadata": {},
   "source": [
    "# Testing datamodule"
   ]
  },
  {
   "cell_type": "markdown",
   "metadata": {},
   "source": [
    "## 1. Workspace setup"
   ]
  },
  {
   "cell_type": "code",
   "execution_count": null,
   "metadata": {},
   "outputs": [],
   "source": [
    "%load_ext autoreload\n",
    "%autoreload 2\n",
    "%load_ext jupyter_black"
   ]
  },
  {
   "cell_type": "code",
   "execution_count": null,
   "metadata": {},
   "outputs": [],
   "source": [
    "import sys\n",
    "import os\n",
    "import open3d as o3d\n",
    "import numpy as np\n",
    "import matplotlib.pyplot as plt\n",
    "\n",
    "sys.path.append(\n",
    "    os.path.join(\n",
    "        os.environ[\"HOMEPATH\"],\n",
    "        \"OneDrive - ETH Zurich\\\\semester_project\\\\spinediffusion\",\n",
    "    )\n",
    ")"
   ]
  },
  {
   "cell_type": "code",
   "execution_count": null,
   "metadata": {},
   "outputs": [],
   "source": [
    "from spinediffusion.datamodule.datamodule import SpineDataModule"
   ]
  },
  {
   "cell_type": "markdown",
   "metadata": {},
   "source": [
    "## 2. Instantiate datamodule"
   ]
  },
  {
   "cell_type": "code",
   "execution_count": null,
   "metadata": {},
   "outputs": [],
   "source": [
    "transform_args = {\n",
    "    # 'constant_normalize' :{\n",
    "    #     \"transform_number\" : 0,\n",
    "    #     \"norm\" : 100,\n",
    "    # },\n",
    "    \"spine_length_normalize\": {\n",
    "        \"transform_number\": 0,\n",
    "        \"norm_length\": 1,\n",
    "    },\n",
    "    \"resample_3d_curve\": {\n",
    "        \"transform_number\": 1,\n",
    "        \"n_points\": 256,\n",
    "    },\n",
    "    \"resample_point_cloud\": {\n",
    "        \"transform_number\": 2,\n",
    "        \"n_points\": 1024,\n",
    "        \"method\": \"poisson\",\n",
    "    },\n",
    "    # \"project_to_plane\": {\n",
    "    #     \"transform_number\": 2,\n",
    "    # },\n",
    "    \"tensorize\": {\"transform_number\": 3},\n",
    "}\n",
    "\n",
    "\n",
    "datamodule = SpineDataModule(\n",
    "    data_dir=\"P:\\\\Projects\\\\LMB_4Dspine\\\\back_scan_database\",\n",
    "    batch_size=32,\n",
    "    train_fraction=0.8,\n",
    "    val_fraction=0.1,\n",
    "    test_fraction=0.1,\n",
    "    transform_args=transform_args,\n",
    "    n_subjects=30,\n",
    "    use_cache=False,\n",
    "    cache_dir=\"../cache/\",\n",
    ")"
   ]
  },
  {
   "cell_type": "code",
   "execution_count": null,
   "metadata": {},
   "outputs": [],
   "source": [
    "datamodule.setup(stage=\"fit\")"
   ]
  }
 ],
 "metadata": {
  "kernelspec": {
   "display_name": "Python 3",
   "language": "python",
   "name": "python3"
  },
  "language_info": {
   "codemirror_mode": {
    "name": "ipython",
    "version": 3
   },
   "file_extension": ".py",
   "mimetype": "text/x-python",
   "name": "python",
   "nbconvert_exporter": "python",
   "pygments_lexer": "ipython3",
   "version": "3.8.3"
  }
 },
 "nbformat": 4,
 "nbformat_minor": 2
}
