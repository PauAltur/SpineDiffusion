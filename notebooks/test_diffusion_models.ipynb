{
 "cells": [
  {
   "cell_type": "markdown",
   "metadata": {},
   "source": [
    "# Test diffusion models"
   ]
  },
  {
   "cell_type": "markdown",
   "metadata": {},
   "source": [
    "## 1. Workspace setup"
   ]
  },
  {
   "cell_type": "code",
   "execution_count": null,
   "metadata": {},
   "outputs": [],
   "source": [
    "%load_ext autoreload\n",
    "%autoreload 2\n",
    "%load_ext jupyter_black"
   ]
  },
  {
   "cell_type": "code",
   "execution_count": null,
   "metadata": {},
   "outputs": [],
   "source": [
    "import yaml\n",
    "import torch\n",
    "import torch.nn.functional as F\n",
    "import matplotlib.pyplot as plt\n",
    "import torchmetrics\n",
    "import pandas as pd\n",
    "from diffusers import UNet2DModel, DDPMScheduler\n",
    "from spinediffusion.models.diffusion_models import UnconditionalDiffusionModel\n",
    "from pathlib import Path"
   ]
  },
  {
   "cell_type": "markdown",
   "metadata": {},
   "source": [
    "## 2. Load model from checkpoint"
   ]
  },
  {
   "cell_type": "code",
   "execution_count": null,
   "metadata": {},
   "outputs": [],
   "source": [
    "log_path = Path(\n",
    "    \"P:\\\\Projects\\\\LMB_4Dspine\\\\Iship_Pau_Altur_Pastor\\\\4_training_logs\\\\depthmap\\\\version_1\"\n",
    ")"
   ]
  },
  {
   "cell_type": "code",
   "execution_count": null,
   "metadata": {},
   "outputs": [],
   "source": [
    "with open(log_path / \"config.yaml\", \"r\") as f:\n",
    "    config = yaml.safe_load(f)\n",
    "\n",
    "model = UNet2DModel(**config[\"model\"][\"init_args\"][\"model\"][\"init_args\"])\n",
    "scheduler = DDPMScheduler(**config[\"model\"][\"init_args\"][\"scheduler\"][\"init_args\"])\n",
    "loss = torch.nn.MSELoss(**config[\"model\"][\"init_args\"][\"loss\"][\"init_args\"])\n",
    "\n",
    "metrics = []\n",
    "for metric_dict in config[\"model\"][\"init_args\"][\"metrics\"].values():\n",
    "    metrics.append(eval(metric_dict[\"class_path\"])(**metric_dict[\"init_args\"]))"
   ]
  },
  {
   "cell_type": "code",
   "execution_count": null,
   "metadata": {},
   "outputs": [],
   "source": [
    "lightning_module = UnconditionalDiffusionModel.load_from_checkpoint(\n",
    "    log_path / \"checkpoints\" / \"epoch=10-step=2519.ckpt\",\n",
    "    model=model,\n",
    "    scheduler=scheduler,\n",
    "    loss=loss,\n",
    "    metrics=metrics,\n",
    ")"
   ]
  },
  {
   "cell_type": "markdown",
   "metadata": {},
   "source": [
    "## 3. Visualize tensorflow logs"
   ]
  },
  {
   "cell_type": "code",
   "execution_count": null,
   "metadata": {},
   "outputs": [],
   "source": [
    "from tensorflow.python.summary.summary_iterator import summary_iterator"
   ]
  },
  {
   "cell_type": "code",
   "execution_count": null,
   "metadata": {},
   "outputs": [],
   "source": [
    "df_tf = pd.DataFrame()\n",
    "\n",
    "for e in summary_iterator(\n",
    "    str(log_path / \"events.out.tfevents.1719496170.Portatil_Pau.95140.0\")\n",
    "):\n",
    "    if len(e.summary.value) == 0:\n",
    "        continue\n",
    "    index = e.wall_time\n",
    "    tag = e.summary.value[0].tag\n",
    "    value = e.summary.value[0].simple_value\n",
    "    df_tf.loc[index, tag] = value"
   ]
  },
  {
   "cell_type": "code",
   "execution_count": null,
   "metadata": {},
   "outputs": [],
   "source": [
    "df_tf"
   ]
  },
  {
   "cell_type": "markdown",
   "metadata": {},
   "source": [
    "## 4. Test inference"
   ]
  },
  {
   "cell_type": "code",
   "execution_count": null,
   "metadata": {},
   "outputs": [],
   "source": [
    "sample_size = config[\"model\"][\"init_args\"][\"model\"][\"init_args\"][\"sample_size\"]\n",
    "\n",
    "x = torch.randn(1, 1, sample_size, sample_size)\n",
    "lightning_module.predict_step(x)"
   ]
  },
  {
   "cell_type": "code",
   "execution_count": null,
   "metadata": {},
   "outputs": [],
   "source": [
    "from diffusers import DiffusionPipeline\n",
    "\n",
    "\n",
    "class MyPipeline(DiffusionPipeline):\n",
    "    def __init__(self, unet, scheduler):\n",
    "        super().__init__()\n",
    "        self.register_modules(unet=unet, scheduler=scheduler)\n",
    "\n",
    "    @torch.no_grad()\n",
    "    def __call__(self, batch_size: int = 1, num_inference_steps: int = 50):\n",
    "        image = torch.randn(\n",
    "            (\n",
    "                batch_size,\n",
    "                self.unet.in_channels,\n",
    "                self.unet.sample_size,\n",
    "                self.unet.sample_size,\n",
    "            )\n",
    "        )\n",
    "        image = image.to(self.unet.device)\n",
    "\n",
    "        self.scheduler.set_timesteps(num_inference_steps)\n",
    "\n",
    "        for t in self.progress_bar(self.scheduler.timesteps):\n",
    "            model_output = self.unet(image, t).sample\n",
    "            image = self.scheduler.step(model_output, t, image).prev_sample\n",
    "\n",
    "        return image\n",
    "\n",
    "\n",
    "pipeline = MyPipeline(unet=lightning_module.model, scheduler=lightning_module.scheduler)"
   ]
  },
  {
   "cell_type": "code",
   "execution_count": null,
   "metadata": {},
   "outputs": [],
   "source": [
    "pipeline.enable_sequential_cpu_offload()"
   ]
  },
  {
   "cell_type": "code",
   "execution_count": null,
   "metadata": {},
   "outputs": [],
   "source": [
    "pipeline()"
   ]
  }
 ],
 "metadata": {
  "kernelspec": {
   "display_name": "venv",
   "language": "python",
   "name": "python3"
  },
  "language_info": {
   "codemirror_mode": {
    "name": "ipython",
    "version": 3
   },
   "file_extension": ".py",
   "mimetype": "text/x-python",
   "name": "python",
   "nbconvert_exporter": "python",
   "pygments_lexer": "ipython3",
   "version": "3.8.3"
  }
 },
 "nbformat": 4,
 "nbformat_minor": 2
}
